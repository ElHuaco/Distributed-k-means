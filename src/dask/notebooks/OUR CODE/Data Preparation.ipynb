{
 "cells": [
  {
   "cell_type": "code",
   "execution_count": 1,
   "id": "f479e15a",
   "metadata": {},
   "outputs": [],
   "source": [
    "import sklearn.datasets\n",
    "import numpy as np\n",
    "import pandas as pd"
   ]
  },
  {
   "cell_type": "markdown",
   "id": "544e448d",
   "metadata": {},
   "source": [
    "# KDD Cup 1999 Dataset"
   ]
  },
  {
   "cell_type": "code",
   "execution_count": 2,
   "id": "f3709541",
   "metadata": {},
   "outputs": [],
   "source": [
    "features, labels= sklearn.datasets.fetch_kddcup99(subset='http', shuffle=True, return_X_y=True, as_frame=True)"
   ]
  },
  {
   "cell_type": "code",
   "execution_count": 3,
   "id": "a139dfed",
   "metadata": {},
   "outputs": [
    {
     "data": {
      "text/plain": [
       "b'back.'        2203\n",
       "b'ipsweep.'        1\n",
       "b'normal.'     56516\n",
       "b'phf.'            4\n",
       "b'satan.'          1\n",
       "Name: labels, dtype: int64"
      ]
     },
     "execution_count": 3,
     "metadata": {},
     "output_type": "execute_result"
    }
   ],
   "source": [
    "labels.groupby(labels.values, axis=0).count()"
   ]
  },
  {
   "cell_type": "markdown",
   "id": "35e8404b",
   "metadata": {},
   "source": [
    "Map the labels to integers:"
   ]
  },
  {
   "cell_type": "code",
   "execution_count": 4,
   "id": "867eef83",
   "metadata": {},
   "outputs": [
    {
     "data": {
      "text/plain": [
       "0    56516\n",
       "1     2203\n",
       "2        1\n",
       "3        4\n",
       "4        1\n",
       "Name: labels, dtype: int64"
      ]
     },
     "execution_count": 4,
     "metadata": {},
     "output_type": "execute_result"
    }
   ],
   "source": [
    "mapper={b'normal.':0, b'back.': 1, b'ipsweep.':2, b'phf.':3, b'satan.':4}\n",
    "labels=labels.replace(mapper)\n",
    "labels.groupby(labels.values, axis=0).count()"
   ]
  },
  {
   "cell_type": "code",
   "execution_count": 5,
   "id": "a08282f5",
   "metadata": {},
   "outputs": [],
   "source": [
    "features.to_csv('./Datasets/KDD_features.csv') \n",
    "labels.to_csv('./Datasets/KDD_labels.csv')"
   ]
  },
  {
   "cell_type": "markdown",
   "id": "35c98cb6",
   "metadata": {},
   "source": [
    "# TV News Channel Commercial Detection Datase"
   ]
  },
  {
   "cell_type": "code",
   "execution_count": 14,
   "id": "b963b2b6",
   "metadata": {},
   "outputs": [],
   "source": [
    "path='./Datasets/TIMESNOW.csv'\n",
    "df=pd.read_csv(path)"
   ]
  },
  {
   "cell_type": "code",
   "execution_count": 15,
   "id": "a42bf871",
   "metadata": {},
   "outputs": [],
   "source": [
    "df=df.dropna(axis=1)"
   ]
  },
  {
   "cell_type": "code",
   "execution_count": 16,
   "id": "42953519",
   "metadata": {},
   "outputs": [],
   "source": [
    "df.to_csv('./Datasets/TIMESNOW_Cleaned.csv') "
   ]
  },
  {
   "cell_type": "code",
   "execution_count": null,
   "id": "f829e770",
   "metadata": {},
   "outputs": [],
   "source": []
  }
 ],
 "metadata": {
  "kernelspec": {
   "display_name": "Python 3 (ipykernel)",
   "language": "python",
   "name": "python3"
  },
  "language_info": {
   "codemirror_mode": {
    "name": "ipython",
    "version": 3
   },
   "file_extension": ".py",
   "mimetype": "text/x-python",
   "name": "python",
   "nbconvert_exporter": "python",
   "pygments_lexer": "ipython3",
   "version": "3.9.5"
  }
 },
 "nbformat": 4,
 "nbformat_minor": 5
}
