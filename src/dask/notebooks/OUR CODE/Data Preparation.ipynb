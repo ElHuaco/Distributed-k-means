{
 "cells": [
  {
   "cell_type": "code",
   "execution_count": 2,
   "id": "f479e15a",
   "metadata": {},
   "outputs": [],
   "source": [
    "import sklearn.datasets\n",
    "import numpy as np"
   ]
  },
  {
   "cell_type": "markdown",
   "id": "544e448d",
   "metadata": {},
   "source": [
    "# KDD Cup 1999 Dataset"
   ]
  },
  {
   "cell_type": "code",
   "execution_count": 3,
   "id": "f3709541",
   "metadata": {},
   "outputs": [],
   "source": [
    "features, labels= sklearn.datasets.fetch_kddcup99(subset='http', shuffle=True, return_X_y=True, as_frame=True)"
   ]
  },
  {
   "cell_type": "code",
   "execution_count": 55,
   "id": "a139dfed",
   "metadata": {},
   "outputs": [
    {
     "data": {
      "text/plain": [
       "b'back.'        2203\n",
       "b'ipsweep.'        1\n",
       "b'normal.'     56516\n",
       "b'phf.'            4\n",
       "b'satan.'          1\n",
       "Name: labels, dtype: int64"
      ]
     },
     "execution_count": 55,
     "metadata": {},
     "output_type": "execute_result"
    }
   ],
   "source": [
    "labels.groupby(labels.values, axis=0).count()"
   ]
  },
  {
   "cell_type": "markdown",
   "id": "769c3fee",
   "metadata": {},
   "source": [
    "We are going to keep only the two dominant classes:"
   ]
  },
  {
   "cell_type": "code",
   "execution_count": 56,
   "id": "a34e64bf",
   "metadata": {},
   "outputs": [],
   "source": [
    "drop_labels=[b'ipsweep.', b'phf.', b'satan.']\n",
    "keep_idx= np.logical_not(np.isin(labels.values, drop_labels))"
   ]
  },
  {
   "cell_type": "code",
   "execution_count": 57,
   "id": "62f8e577",
   "metadata": {},
   "outputs": [
    {
     "data": {
      "text/plain": [
       "b'back.'       2203\n",
       "b'normal.'    56516\n",
       "Name: labels, dtype: int64"
      ]
     },
     "execution_count": 57,
     "metadata": {},
     "output_type": "execute_result"
    }
   ],
   "source": [
    "features = features[keep_idx]\n",
    "labels = labels[keep_idx]\n",
    "labels.groupby(labels.values, axis=0).count()"
   ]
  },
  {
   "cell_type": "markdown",
   "id": "35e8404b",
   "metadata": {},
   "source": [
    "Map the labels to integers:"
   ]
  },
  {
   "cell_type": "code",
   "execution_count": 58,
   "id": "867eef83",
   "metadata": {},
   "outputs": [
    {
     "data": {
      "text/plain": [
       "0    56516\n",
       "1     2203\n",
       "Name: labels, dtype: int64"
      ]
     },
     "execution_count": 58,
     "metadata": {},
     "output_type": "execute_result"
    }
   ],
   "source": [
    "mapper={b'normal.':0, b'back.': 1}\n",
    "labels=labels.replace(mapper)\n",
    "labels.groupby(labels.values, axis=0).count()"
   ]
  },
  {
   "cell_type": "code",
   "execution_count": 59,
   "id": "a08282f5",
   "metadata": {},
   "outputs": [],
   "source": [
    "features.to_csv('./Dataset/features.csv') \n",
    "labels.to_csv('./Dataset/labels.csv')"
   ]
  }
 ],
 "metadata": {
  "kernelspec": {
   "display_name": "Python 3 (ipykernel)",
   "language": "python",
   "name": "python3"
  },
  "language_info": {
   "codemirror_mode": {
    "name": "ipython",
    "version": 3
   },
   "file_extension": ".py",
   "mimetype": "text/x-python",
   "name": "python",
   "nbconvert_exporter": "python",
   "pygments_lexer": "ipython3",
   "version": "3.9.5"
  }
 },
 "nbformat": 4,
 "nbformat_minor": 5
}
